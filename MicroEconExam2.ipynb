{
 "cells": [
  {
   "cell_type": "markdown",
   "metadata": {},
   "source": [
    "***Girish Palya***"
   ]
  },
  {
   "cell_type": "markdown",
   "metadata": {},
   "source": [
    ">**Task 2**\n",
    "Taxation is often associated with something which is destroying the economy. However, taxing goods whose consumption generates external costs can be profitable for the whole economy. You just need to carry out a cost benefit analysis.   \n",
    "The problem is to find the optimal level of taxation.  \n",
    "Storytelling applies to the XYZ good [You will know the full storytelling on the exam ]   \n",
    "Let's assume that the model of perfectly competitive market is a good approximation of market conditions:\n",
    "\n",
    "\\begin{align}\n",
    "q_{d} = 1000 - 5p\\\\\n",
    "q_{s} = -250 + 2p\\\\\n",
    "q_{d} = q_{s}\n",
    "\\end{align}\n",
    "\n",
    ">Consumption of 1 unit of this good generates the external cost EC, which can be approximated by the function EC = 10$q_{d}$ + 0.01$q_{d}^{2}$.\n"
   ]
  },
  {
   "cell_type": "code",
   "execution_count": 55,
   "metadata": {},
   "outputs": [
    {
     "data": {
      "image/png": "[encoded data removed]",
      "text/plain": [
       "<Figure size 432x288 with 1 Axes>"
      ]
     },
     "metadata": {
      "needs_background": "light"
     },
     "output_type": "display_data"
    }
   ],
   "source": [
    "%matplotlib inline\n",
    "import sympy as sym\n",
    "from sympy.plotting import plot\n",
    "\n",
    "q_d, q_s, p_d, p_s = sym.symbols('q_d q_s p_d p_s')\n",
    "\n",
    "Eq_d = 1000 - (5 * p_d) - q_d\n",
    "Eq_s = -250 + (2 * p_s) - q_s\n",
    "Eq_eqm_q = q_d - q_s\n",
    "Eq_eqm_p = p_d - p_s\n",
    "EC = (10 * q_d) + ((0.01) * (q_d**2))\n",
    "\n",
    "# demand curve\n",
    "Price_d = sym.solveset(Eq_d, p_d).args[0]\n",
    "pl = plot(Price_d, (q_d, 0, 1000), xlabel='quantity', ylabel='price', show=False, line_color='red', \\\n",
    "          title='demand=red, supply=blue')\n",
    "\n",
    "# supply curve\n",
    "Price_s = sym.solveset(Eq_s, p_s).args[0]\n",
    "pl.extend(plot(Price_s, (q_s, 0, 1000), show=False))\n",
    "pl.show()"
   ]
  },
  {
   "cell_type": "markdown",
   "metadata": {},
   "source": [
    ">a) Calculate the equilibrium condition without regulation, also specify the external EC costs. (2p)\n"
   ]
  },
  {
   "cell_type": "code",
   "execution_count": 61,
   "metadata": {},
   "outputs": [
    {
     "name": "stdout",
     "output_type": "stream",
     "text": [
      "At equilibrium: price p = 1250/7 (178.57), quantity q = 750/7 (107.14)\n",
      "External Cost: 1186.22\n"
     ]
    }
   ],
   "source": [
    "solution_e = sym.solve((Eq_d, Eq_s, Eq_eqm_q, Eq_eqm_p), (p_d, p_s, q_d, q_s))\n",
    "print(f'At equilibrium: price p = {solution_e[p_d]} ({solution_e[p_d].evalf(5)}), quantity q = {solution_e[q_d]} ({solution_e[q_d].evalf(5)})')\n",
    "print(f'External Cost: {EC.subs(q_d, solution_e[q_d]).evalf(6)}')"
   ]
  },
  {
   "cell_type": "markdown",
   "metadata": {},
   "source": [
    ">b) The government wants to impose ad valorem tax (t) on this good. Specify tax effects on:\n"
   ]
  },
  {
   "cell_type": "code",
   "execution_count": 35,
   "metadata": {},
   "outputs": [
    {
     "name": "stdout",
     "output_type": "stream",
     "text": [
      "Ad valorem tax: \n",
      "price_supplier = 1250/(5*t + 7), price_demander = 1250*(t + 1)/(5*t + 7), quantity = 250*(3 - 5*t)/(5*t + 7)\n"
     ]
    }
   ],
   "source": [
    "# ad valorem tax\n",
    "t = sym.Symbol('t')\n",
    "Eq_tax = p_d - (1 + t) * p_s\n",
    "s = sym.solve((Eq_d, Eq_s, Eq_eqm_q, Eq_tax), (p_d, p_s, q_d, q_s))\n",
    "print(f'Ad valorem tax: ')\n",
    "print(f'price_supplier = {s[p_s]}, price_demander = {s[p_d]}, quantity = {s[q_d]}')"
   ]
  },
  {
   "cell_type": "markdown",
   "metadata": {},
   "source": [
    ">b1) Generated EC external cost. Determine the dependence of EC = f(t) - the amount of the external cost as a function of the tax rate t. Draw an approximate graph of this function. (3p)\n",
    "\n"
   ]
  },
  {
   "cell_type": "code",
   "execution_count": 31,
   "metadata": {},
   "outputs": [
    {
     "data": {
      "text/latex": [
       "$\\displaystyle \\frac{625.0 \\left(3 - 5 t\\right)^{2}}{\\left(5 t + 7\\right)^{2}} + \\frac{2500 \\left(3 - 5 t\\right)}{5 t + 7}$"
      ],
      "text/plain": [
       "625.0*(3 - 5*t)**2/(5*t + 7)**2 + 2500*(3 - 5*t)/(5*t + 7)"
      ]
     },
     "execution_count": 31,
     "metadata": {},
     "output_type": "execute_result"
    }
   ],
   "source": [
    "EC_t = EC.subs(q_d, s[q_d])\n",
    "EC_t"
   ]
  },
  {
   "cell_type": "code",
   "execution_count": 32,
   "metadata": {
    "scrolled": true
   },
   "outputs": [
    {
     "data": {
      "image/png": "[encoded data removed]",
      "text/plain": [
       "<Figure size 432x288 with 1 Axes>"
      ]
     },
     "metadata": {
      "needs_background": "light"
     },
     "output_type": "display_data"
    },
    {
     "name": "stdout",
     "output_type": "stream",
     "text": [
      "For tax = 3/5 cost is zero\n"
     ]
    }
   ],
   "source": [
    "plot(EC_t, (t, 0, 10), xlabel='tax', ylabel='External Cost')\n",
    "print(f'For tax = {sym.solveset(EC_t, t).args[1]} cost is zero')"
   ]
  },
  {
   "cell_type": "markdown",
   "metadata": {},
   "source": [
    "As tax increases, external cost becomes negative (benefit). It levels out after horizontally eventually (no additional benefit after a certain amount of taxation. Here tax t is defined as a ratio (t=2 means 200% tax, etc). Cost is zero for tax = 3/5 (60%)."
   ]
  },
  {
   "cell_type": "markdown",
   "metadata": {},
   "source": [
    ">b2) Tax revenue T. Determine the dependence of T = f (t) tax revenue as a function of the tax rate t. Draw an approximate graph of this function. (3p)\n",
    "\n"
   ]
  },
  {
   "cell_type": "code",
   "execution_count": 34,
   "metadata": {},
   "outputs": [
    {
     "data": {
      "text/latex": [
       "$\\displaystyle \\frac{312500 t \\left(3 - 5 t\\right)}{\\left(5 t + 7\\right)^{2}}$"
      ],
      "text/plain": [
       "312500*t*(3 - 5*t)/(5*t + 7)**2"
      ]
     },
     "execution_count": 34,
     "metadata": {},
     "output_type": "execute_result"
    }
   ],
   "source": [
    "# Tax_Revenue = quantity * price_supplier * tax_rate\n",
    "Tax_Revenue = s[q_d] * s[p_s] * t\n",
    "Tax_Revenue"
   ]
  },
  {
   "cell_type": "code",
   "execution_count": 38,
   "metadata": {},
   "outputs": [
    {
     "data": {
      "image/png": "[encoded data removed]",
      "text/plain": [
       "<Figure size 432x288 with 1 Axes>"
      ]
     },
     "metadata": {
      "needs_background": "light"
     },
     "output_type": "display_data"
    },
    {
     "data": {
      "text/plain": [
       "<sympy.plotting.plot.Plot at 0x11f536a50>"
      ]
     },
     "execution_count": 38,
     "metadata": {},
     "output_type": "execute_result"
    }
   ],
   "source": [
    "plot(Tax_Revenue, (t, 0, 1), xlabel='tax', ylabel='Tax Revenue')"
   ]
  },
  {
   "cell_type": "code",
   "execution_count": 51,
   "metadata": {},
   "outputs": [
    {
     "name": "stdout",
     "output_type": "stream",
     "text": [
      "At the tax rate of 0.247, tax revenue is maximum\n",
      "Max Tax Revenue = 2009.5\n"
     ]
    }
   ],
   "source": [
    "# Find max tax revenue\n",
    "tax_m = sym.solveset(sym.diff(Tax_Revenue, t), t).evalf(3).args[0]\n",
    "print(f'At the tax rate of {tax_m}, tax revenue is maximum')\n",
    "print(f'Max Tax Revenue = {Tax_Revenue.subs(t, tax_m).evalf(5)}')"
   ]
  },
  {
   "cell_type": "markdown",
   "metadata": {},
   "source": [
    ">b3) Social welfare. Define the dependence SW = f (t). Social Welfare as a function of the tax rate. SW is the sum of tax revenues (T), Producer Surplus (PS), Consumer Surplus (CS) with included External Costs (EC) SW = T + CS + PS - EC. Draw an approximate graph of this function. (3p)\n"
   ]
  },
  {
   "cell_type": "code",
   "execution_count": 113,
   "metadata": {},
   "outputs": [
    {
     "data": {
      "text/latex": [
       "$\\displaystyle - \\frac{\\left(5 t - 3\\right) \\left(193750.0 t + 46250.0\\right)}{\\left(5 t + 7\\right)^{2}}$"
      ],
      "text/plain": [
       "-(5*t - 3)*(193750.0*t + 46250.0)/(5*t + 7)**2"
      ]
     },
     "execution_count": 113,
     "metadata": {},
     "output_type": "execute_result"
    }
   ],
   "source": [
    "\n",
    "# Price (supply and demand) when quantity=0\n",
    "p_d_0 = sym.solveset(Eq_d, p_d).subs(q_d, 0).args[0]\n",
    "p_s_0 = sym.solveset(Eq_s, p_s).subs(q_s, 0).args[0]\n",
    "\n",
    "# This method also works:\n",
    "# # In the absense of tax, say CS_plus_PS is the area of triangle formed by p_d_0 and p_s_0 and quantity at equilibrium\n",
    "# CS_plus_PS_notax = 0.5 * (p_d_0 - p_s_0) * solution_e[q_d]\n",
    "# # dead_weight_loss = 1/2 * amount_of_tax * quanity\n",
    "# dead_weight_loss = 0.5 * (t * s[p_s]) * (solution_e[q_s] - s[q_s])\n",
    "# TaxRevenue_plus_CS_plus_PS = CS_plus_PS_notax - dead_weight_loss\n",
    "# # social welfare\n",
    "# SW = TaxRevenue_plus_CS_plus_PS - EC_t\n",
    "# SW = sym.simplify(SW)\n",
    "\n",
    "# XXX: following is wrong, the 2 trapeziods are not mirror images, demand line and supply line have different slope\n",
    "CS = 0.5 * (p_d_0 - s[p_d]) * s[q_d]\n",
    "PS = 0.5 * (s[p_s] - p_s_0) * s[q_d]\n",
    "SW = Tax_Revenue + PS + CS - EC_t\n",
    "SW = sym.simplify(SW)\n",
    "SW"
   ]
  },
  {
   "cell_type": "code",
   "execution_count": 114,
   "metadata": {},
   "outputs": [
    {
     "data": {
      "image/png": "[encoded data removed]",
      "text/plain": [
       "<Figure size 432x288 with 1 Axes>"
      ]
     },
     "metadata": {
      "needs_background": "light"
     },
     "output_type": "display_data"
    },
    {
     "data": {
      "text/plain": [
       "<sympy.plotting.plot.Plot at 0x11f07bad0>"
      ]
     },
     "execution_count": 114,
     "metadata": {},
     "output_type": "execute_result"
    }
   ],
   "source": [
    "plot(SW, (t, 0, 1), xlabel='tax', ylabel='Social Welfare')"
   ]
  },
  {
   "cell_type": "markdown",
   "metadata": {},
   "source": [
    ">c) Based on point b, find the optimal level of taxation:\n",
    "\n"
   ]
  },
  {
   "cell_type": "markdown",
   "metadata": {},
   "source": [
    ">c1) If the government does not include external costs in its accounts and maximizes only tax revenues. (3p)\n"
   ]
  },
  {
   "cell_type": "code",
   "execution_count": 119,
   "metadata": {},
   "outputs": [
    {
     "name": "stdout",
     "output_type": "stream",
     "text": [
      "Social Welfare not including external costs:\n"
     ]
    },
    {
     "data": {
      "text/latex": [
       "$\\displaystyle - \\frac{250 \\left(5 t - 3\\right) \\left(812.5 t + 262.5\\right)}{\\left(5 t + 7\\right)^{2}}$"
      ],
      "text/plain": [
       "-250*(5*t - 3)*(812.5*t + 262.5)/(5*t + 7)**2"
      ]
     },
     "execution_count": 119,
     "metadata": {},
     "output_type": "execute_result"
    }
   ],
   "source": [
    "SW = Tax_Revenue + PS + CS\n",
    "SW = sym.simplify(SW)\n",
    "print(f'Social Welfare not including external costs:')\n",
    "SW"
   ]
  },
  {
   "cell_type": "code",
   "execution_count": 120,
   "metadata": {},
   "outputs": [
    {
     "data": {
      "image/png": "[encoded data removed]",
      "text/plain": [
       "<Figure size 432x288 with 1 Axes>"
      ]
     },
     "metadata": {
      "needs_background": "light"
     },
     "output_type": "display_data"
    },
    {
     "data": {
      "text/plain": [
       "<sympy.plotting.plot.Plot at 0x11f384ad0>"
      ]
     },
     "execution_count": 120,
     "metadata": {},
     "output_type": "execute_result"
    }
   ],
   "source": [
    "plot(SW, (t, 0, 0.1), xlabel='tax', ylabel='Social Welfare')"
   ]
  },
  {
   "cell_type": "code",
   "execution_count": 121,
   "metadata": {},
   "outputs": [
    {
     "name": "stdout",
     "output_type": "stream",
     "text": [
      "Optimum tax = 0.0\n"
     ]
    }
   ],
   "source": [
    "df = sym.diff(SW, t)\n",
    "tax_optimum = sym.solve(sym.simplify(df),t)[0]\n",
    "print(f'Optimum tax = {tax_optimum}')"
   ]
  },
  {
   "cell_type": "markdown",
   "metadata": {},
   "source": [
    "Optimum tax of 0 is to be expected. For any other positive value of tax we will have Dead Weight Loss associated with tax. Dead Weight Loss subtracts from Social Welfare."
   ]
  },
  {
   "cell_type": "markdown",
   "metadata": {},
   "source": [
    ">c2) If the government wants to equalize the tax revenues T with the external EC costs. The tax revenues intended to eliminate the consequences of the consumption of this good. (3p)\n"
   ]
  },
  {
   "cell_type": "code",
   "execution_count": 123,
   "metadata": {},
   "outputs": [
    {
     "data": {
      "text/plain": [
       "[0.0639175257731959, 0.600000000000000]"
      ]
     },
     "execution_count": 123,
     "metadata": {},
     "output_type": "execute_result"
    }
   ],
   "source": [
    "sym.solve((Tax_Revenue - EC_t), t)"
   ]
  },
  {
   "cell_type": "markdown",
   "metadata": {},
   "source": [
    "We have 2 values for tax, as above. However, at t=0.6, quantity available would be zero. So this is not realistic. The optimum tax would be **0.0639175257731959**. Tax revenue would be 999.31."
   ]
  },
  {
   "cell_type": "markdown",
   "metadata": {},
   "source": [
    ">c3) If the government maximizes social welfare, SW = T + CS + PS - EC. (3p)\n"
   ]
  },
  {
   "cell_type": "code",
   "execution_count": 140,
   "metadata": {},
   "outputs": [
    {
     "name": "stdout",
     "output_type": "stream",
     "text": [
      "Optimum tax = 0.0693877551020408\n"
     ]
    }
   ],
   "source": [
    "SW = Tax_Revenue + PS + CS - EC_t\n",
    "SW = sym.simplify(SW)\n",
    "df = sym.diff(SW, t)\n",
    "tax_optimum = sym.solve(sym.simplify(df), t)[0]\n",
    "print(f'Optimum tax = {tax_optimum}')"
   ]
  },
  {
   "cell_type": "markdown",
   "metadata": {},
   "source": [
    ">c4) The government takes over the production of this good as a monopoly. The marginal and average costs of production are the same MC = ATC = 10. Profits of the state monopolistic firm become the revenues of the state budget. (4p)\n"
   ]
  },
  {
   "cell_type": "markdown",
   "metadata": {},
   "source": [
    "In this case, cost = 10 * quantity"
   ]
  },
  {
   "cell_type": "code",
   "execution_count": 159,
   "metadata": {},
   "outputs": [
    {
     "data": {
      "text/latex": [
       "$\\displaystyle q_{d} \\left(200 - \\frac{q_{d}}{5}\\right) - 10 q_{d}$"
      ],
      "text/plain": [
       "q_d*(200 - q_d/5) - 10*q_d"
      ]
     },
     "execution_count": 159,
     "metadata": {},
     "output_type": "execute_result"
    }
   ],
   "source": [
    "cost = 10 * q_d\n",
    "# profit maximization\n",
    "profit = (p_d * q_d) - cost\n",
    "price_eq = sym.solveset(Eq_d, p_d).args[0]\n",
    "profit = profit.subs(p_d, price_eq)\n",
    "profit"
   ]
  },
  {
   "cell_type": "code",
   "execution_count": 170,
   "metadata": {},
   "outputs": [
    {
     "name": "stdout",
     "output_type": "stream",
     "text": [
      "Quantity of goods (state monopoly maximising profits): 475, profit: 45125\n",
      "price: 105\n",
      "Tax/profit (per unit): 95\n",
      "Tax (ad valorem): 9.5\n"
     ]
    }
   ],
   "source": [
    "df = sym.diff(profit, q_d)\n",
    "quantity_s = sym.solve(df, q_d)[0]\n",
    "print(f'Quantity of goods (state monopoly maximising profits): {quantity_s}, profit: {profit.subs(q_d, quantity_s)}')\n",
    "print(f'price: {price_eq.subs(q_d, quantity_s)}')\n",
    "profit_per_unit = profit.subs(q_d, quantity_s) / quantity_s\n",
    "print(f'Tax/profit (per unit): {profit_per_unit}')\n",
    "print(f'Tax (ad valorem): {(profit_per_unit / 10).evalf(2)}') # 10 is the marginal cost"
   ]
  },
  {
   "cell_type": "markdown",
   "metadata": {},
   "source": [
    ">d) Analyze the obtained results. Determine the impact of different tax optimization policies applied by the government on this market. (6p)\n",
    "\n"
   ]
  },
  {
   "cell_type": "markdown",
   "metadata": {},
   "source": [
    ">e) Based on the analysis of the tax policy ..... (a fragment of the real report will be given on the exam). Determine if such a simplified model can be useful for analyzing such problems. Skip the discussions of the reality of parameters, and focus on the reality of the behaviour of this model. Is it possible to use a market solution in this case? Can Coase theorem be applied to this example? (9p)"
   ]
  },
  {
   "cell_type": "code",
   "execution_count": null,
   "metadata": {},
   "outputs": [],
   "source": []
  }
 ],
 "metadata": {
  "kernelspec": {
   "display_name": "Python 3",
   "language": "python",
   "name": "python3"
  },
  "language_info": {
   "codemirror_mode": {
    "name": "ipython",
    "version": 3
   },
   "file_extension": ".py",
   "mimetype": "text/x-python",
   "name": "python",
   "nbconvert_exporter": "python",
   "pygments_lexer": "ipython3",
   "version": "3.7.4"
  }
 },
 "nbformat": 4,
 "nbformat_minor": 2
}
