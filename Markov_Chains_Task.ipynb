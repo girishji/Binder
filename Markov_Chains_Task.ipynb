{
 "cells": [
  {
   "cell_type": "markdown",
   "metadata": {},
   "source": [
    "**Girish Palya**\n",
    "\n",
    "```\n",
    "The diagram shows the map of city bikes movement from district to district - the probability of bicycle relocation from one to another district in one day. At the beginning of the season, all 2000 bicycles will be left in B district.  Show the behaviour of the system in time. What is the steady state? Is it a good idea to leave all bicycles in B district? Where the provider should build new docking stations when the number of bicycles will be growing.  \n",
    "New version: In which Warsaw district we can found most of the electric scooters? [ we have no docking station]\n",
    "```"
   ]
  },
  {
   "cell_type": "code",
   "execution_count": 31,
   "metadata": {},
   "outputs": [
    {
     "name": "stdout",
     "output_type": "stream",
     "text": [
      "After 0 time period, allocation A:B:C = 0:2000:0\n",
      "After 1 time period, allocation A:B:C = 1200:600:200\n",
      "After 2 time period, allocation A:B:C = 860:500:640\n",
      "After 3 time period, allocation A:B:C = 708:578:714\n",
      "After 4 time period, allocation A:B:C = 701:601:698\n",
      "After 5 time period, allocation A:B:C = 711:600:690\n",
      "After 6 time period, allocation A:B:C = 713:598:689\n",
      "After 7 time period, allocation A:B:C = 713:598:690\n",
      "After 8 time period, allocation A:B:C = 713:598:690\n",
      "After 9 time period, allocation A:B:C = 713:598:690\n"
     ]
    }
   ],
   "source": [
    "import numpy as np\n",
    "markov_m = [[0.4, 0.2, 0.4],\n",
    "           [0.6, 0.3, 0.1],\n",
    "           [0.1, 0.4, 0.5]] \n",
    "markov = np.matrix(markov_m)\n",
    "\n",
    "distrib_m = [[0, 2000, 0]]\n",
    "distrib = np.matrix(distrib_m)\n",
    "\n",
    "# Iterate over many time periods\n",
    "for t in range(10):\n",
    "    print(f'After {t} time period, allocation A:B:C = {distrib[0,0]:.0f}:{distrib[0,1]:.0f}:{distrib[0,2]:.0f}')\n",
    "    distrib = distrib * markov"
   ]
  },
  {
   "cell_type": "markdown",
   "metadata": {},
   "source": [
    "**Comments**\n",
    "- Steady state after 7 time periods (713 : 598 : 690)\n",
    "- Not a good idea to leave all bycycles in B\n",
    "- Start with 713:598:690 distribution (A:B:C)\n",
    "- New docking stations should be built in the same proportion as steady state (more in A)\n",
    "- More electric scooters in Centrum(?)"
   ]
  },
  {
   "cell_type": "code",
   "execution_count": null,
   "metadata": {},
   "outputs": [],
   "source": []
  }
 ],
 "metadata": {
  "kernelspec": {
   "display_name": "Python 3",
   "language": "python",
   "name": "python3"
  },
  "language_info": {
   "codemirror_mode": {
    "name": "ipython",
    "version": 3
   },
   "file_extension": ".py",
   "mimetype": "text/x-python",
   "name": "python",
   "nbconvert_exporter": "python",
   "pygments_lexer": "ipython3",
   "version": "3.7.4"
  }
 },
 "nbformat": 4,
 "nbformat_minor": 2
}
